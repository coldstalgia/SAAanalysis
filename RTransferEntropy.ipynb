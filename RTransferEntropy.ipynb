{
  "nbformat": 4,
  "nbformat_minor": 0,
  "metadata": {
    "colab": {
      "name": "RTransferEntropy.ipynb",
      "provenance": [],
      "collapsed_sections": [],
      "include_colab_link": true
    },
    "kernelspec": {
      "name": "ir",
      "display_name": "R"
    }
  },
  "cells": [
    {
      "cell_type": "markdown",
      "metadata": {
        "id": "view-in-github",
        "colab_type": "text"
      },
      "source": [
        "<a href=\"https://colab.research.google.com/github/coldstalgia/SAAanalysis/blob/main/RTransferEntropy.ipynb\" target=\"_parent\"><img src=\"https://colab.research.google.com/assets/colab-badge.svg\" alt=\"Open In Colab\"/></a>"
      ]
    },
    {
      "cell_type": "code",
      "metadata": {
        "id": "mkq69YxG1gcS"
      },
      "source": [
        "install.packages(\"RTransferEntropy\")\r\n",
        "library(RTransferEntropy)\r\n",
        "\r\n",
        "# import dataset from final_table.csv\r\n",
        "careggi_dataset <- read.csv(file = 'final_table.csv')\r\n",
        "\r\n",
        "num_osp <- careggi_dataset[,'num_ospedalizzazioni']\r\n",
        "press_mb <- careggi_dataset[,'pressione_mb']\r\n",
        "\r\n",
        "mean_temp <- careggi_dataset[,'mean_temp']\r\n",
        "max_temp <- careggi_dataset[,'max_temp']\r\n",
        "max_wind <- careggi_dataset[,'max_wind']\r\n",
        "humidity <- careggi_dataset[,'humidity']\r\n",
        "var_press <- careggi_dataset[,'var_press']\r\n",
        "\r\n",
        "# creating dataframe\r\n",
        "table <- data.frame(num_osp, press_mb, mean_temp, max_temp, max_wind, humidity, var_press)\r\n",
        "\r\n",
        "\r\n",
        "# display Transfer Entropy and p-value of given dataframe, with first column = num_ospedalizzazioni.\r\n",
        "display_TE_pval <- function(dataframe, past_val=1, te_precision=4, p_precision=4){\r\n",
        "# past_values = number of lagged values affecting the current value of x and y. Default is past_values = 1\r\n",
        "# te_precision = precision of te value. Default is te_precision = 4\r\n",
        "# p_precision = precision of p-value. Default is p_precision = 4\r\n",
        "\r\n",
        "    # for each column except first\r\n",
        "    for(col in colnames(dataframe[,2:ncol(dataframe)])){ \r\n",
        "        # for each past value considered effective\r\n",
        "        for(k in 1:past_val){\r\n",
        "            # lx, ly are number of lagged values affecting the current value of x and y\r\n",
        "            result <- transfer_entropy(dataframe[col], dataframe['num_osp'], lx=k, ly=k, quiet=TRUE)\r\n",
        "\r\n",
        "            # get te and p-value from an object of class transfer_entropy\r\n",
        "            te <- round(coef(result)[1], te_precision)\r\n",
        "            p_val <- round(coef(result)[7], p_precision)\r\n",
        "            \r\n",
        "            # formatting print function\r\n",
        "            cmd <- sprintf(\"Variable: %s - (TE = %s, p-value = %s, k = %d)\", col, te, p_val, past_val)\r\n",
        "            print(eval(cmd))\r\n",
        "        }\r\n",
        "    }\r\n",
        "}\r\n",
        "\r\n",
        "\r\n",
        "# function that simply applies a given function D.Func to all possible pairs of columns from a given matrix X\r\n",
        "FApply.Pairwise <- function(X, D.Func, lx, ly){\r\n",
        "    n = seq_len(ncol(X))\r\n",
        "    ff.TE.value = function(a, b) D.Func(X[,a], X[,b], lx=lx, ly=ly)\r\n",
        "\r\n",
        "    return(outer(n, n, Vectorize(ff.TE.value)))\r\n",
        "}\r\n",
        "\r\n",
        "# print matrix with directional TE: X->Y & Y->X of given dataframe\r\n",
        "print_TE_matrix <- function(dataframe, lx=1, ly=1, precision=4){\r\n",
        "# lx = number of lagged values affecting the current value of x and y. Default is lx = 1\r\n",
        "# ly = number of lagged values affecting the current value of x and y. Default is ly = 1\r\n",
        "# precision = significant digit to show . Default is precision = 4\r\n",
        "\r\n",
        "    TE.matrix<-FApply.Pairwise(dataframe, calc_te, lx, ly)\r\n",
        "    rownames(TE.matrix)<-colnames(TE.matrix)<-colnames(dataframe)\r\n",
        "\r\n",
        "    data <- round(TE.matrix, precision)\r\n",
        "    print(data)\r\n",
        "}\r\n"
      ],
      "execution_count": null,
      "outputs": []
    }
  ]
}